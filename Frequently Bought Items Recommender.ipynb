{
 "cells": [
  {
   "cell_type": "code",
   "execution_count": 48,
   "id": "f4d0b190",
   "metadata": {},
   "outputs": [],
   "source": [
    "#Importing the libraries\n",
    "import os\n",
    "import numpy as np\n",
    "import pandas as pd\n",
    "from mlxtend.frequent_patterns import association_rules\n",
    "from mlxtend.frequent_patterns import apriori"
   ]
  },
  {
   "cell_type": "code",
   "execution_count": 49,
   "id": "743a7c54",
   "metadata": {},
   "outputs": [],
   "source": [
    "# Data importing and necessary data manipulation\n",
    "df2 = pd.read_csv('ARM - Bakery_mapped.csv')"
   ]
  },
  {
   "cell_type": "code",
   "execution_count": 50,
   "id": "a6d08cb9",
   "metadata": {},
   "outputs": [
    {
     "data": {
      "text/plain": [
       "(20507, 5)"
      ]
     },
     "execution_count": 50,
     "metadata": {},
     "output_type": "execute_result"
    }
   ],
   "source": [
    "df2.shape"
   ]
  },
  {
   "cell_type": "code",
   "execution_count": 51,
   "id": "b8302d34",
   "metadata": {},
   "outputs": [],
   "source": [
    "brand_mapping = {\n",
    "    'Coke': 'Coca-Cola',\n",
    "    'Sandwich': 'Subway Sub of the Day Sandwich',\n",
    "    'Juice': 'Tropicana Orange Juice',\n",
    "    'Cookies': 'Chip\\'s Ahoy Chocolate Chip Cookies',\n",
    "    'Cake': 'Betty Crocker Cake Mix',\n",
    "    'Coffee, Hot Chocolate': 'Starbucks Dark Roast Coffee Beans, Swiss Miss Hot Chocolate',\n",
    "    'Soup': 'Campbell\\'s Soup',\n",
    "    'Coffee, Cake': 'Starbucks Dark Roast Coffee Beans, Betty Crocker Cake Mix',\n",
    "    'Hot Chocolate': 'Swiss Miss Hot Chocolate',\n",
    "    'Coffee, Tea': 'Starbucks Dark Roast Coffee Beans, Lipton Ice Tea',\n",
    "    'Tea': 'Lipton Ice Tea',\n",
    "    'Pastry': 'Baker\\'s Treat Danish Pastry',\n",
    "    'Medialuna': 'Medialunas Argentinian Croissant',\n",
    "    'Scone': 'Twinings Scone',\n",
    "    'Coffee': 'Starbucks Dark Roast Coffee Beans',\n",
    "    'Keeping It Local': 'Keeping It Local Brand',\n",
    "    'Toast': 'Oroweat Toast',\n",
    "    'Coffee, Bread': 'Starbucks Dark Roast Coffee Beans, Oroweat Bread',\n",
    "    'Salad': 'Simply Fresh Organic Salad',\n",
    "    'Alfajores': 'La Patisserie Alfajores',\n",
    "    'Hot Chocolate, Cake': 'Swiss Miss Hot Chocolate, Betty Crocker Cake Mix',\n",
    "    'Spanish Brunch': 'Spanish Brunch Café',\n",
    "    'Muffin': 'Hostess Muffin',\n",
    "    'Brownie': 'Ghirardelli Brownie',\n",
    "    'Tiffin': 'Tiffin Box',\n",
    "    'Hearty & Seasonal': 'Hearty & Seasonal Foods',\n",
    "    'Jammie Dodgers': 'Jammie Dodgers Biscuits',\n",
    "    'Bread': 'Wonder Bread',\n",
    "    'Jam': 'Smucker\\'s Jam'\n",
    "}"
   ]
  },
  {
   "cell_type": "code",
   "execution_count": 52,
   "id": "98074e78",
   "metadata": {},
   "outputs": [],
   "source": [
    "df2['Items'] = df2['Items'].replace(brand_mapping)"
   ]
  },
  {
   "cell_type": "code",
   "execution_count": 53,
   "id": "c9f27448",
   "metadata": {},
   "outputs": [
    {
     "data": {
      "text/plain": [
       "'/Users/adityabhatkal/Desktop/Changes addy-bhatkal-portfolio _ being made'"
      ]
     },
     "execution_count": 53,
     "metadata": {},
     "output_type": "execute_result"
    }
   ],
   "source": [
    "pwd"
   ]
  },
  {
   "cell_type": "code",
   "execution_count": 54,
   "id": "8652d994",
   "metadata": {},
   "outputs": [],
   "source": [
    "df2.to_csv('ARM - Bakery_mapped.csv', index=False)"
   ]
  },
  {
   "cell_type": "code",
   "execution_count": 55,
   "id": "d505142c",
   "metadata": {},
   "outputs": [],
   "source": [
    "# Defining the ARM source code\n",
    "\n",
    "def arm_ML(prod):\n",
    "    df2['Items'] = df2['Items'].str.strip()\n",
    "    basket = df2.groupby(['TransactionNo','Items'])['DateTime'].sum().unstack().reset_index().fillna(0).set_index('TransactionNo')\n",
    "    def encode(y):\n",
    "        if y== 0:\n",
    "            return 0\n",
    "        if y!= 0:\n",
    "            return 1\n",
    "    basket = basket.map(encode)\n",
    "    freq = apriori(basket, min_support=0.005, use_colnames=True)\n",
    "    rules = association_rules(freq, freq['itemsets'], metric='lift', min_threshold=1)\n",
    "    rules2 = rules.sort_values(by='lift', ascending = False)\n",
    "    df_rules = rules2.reset_index()\n",
    "    idx = [i for i in range(df_rules.shape[0])]\n",
    "    df3 = df_rules[['antecedents', 'consequents']].iloc[idx,:].reset_index().drop('index', axis = 1)\n",
    "    df3['antecedents'] = df3['antecedents'].apply(lambda x: ', '.join(list(x)))\n",
    "    df3['consequents'] = df3['consequents'].apply(lambda x: ', '.join(list(x)))\n",
    "    df3.head()\n",
    "    return list(df3[df3['antecedents']==prod]['consequents'])"
   ]
  },
  {
   "cell_type": "code",
   "execution_count": 56,
   "id": "ecccd023",
   "metadata": {},
   "outputs": [
    {
     "name": "stderr",
     "output_type": "stream",
     "text": [
      "/Users/adityabhatkal/Desktop/Changes addy-bhatkal-portfolio _ being made/env2/lib/python3.11/site-packages/mlxtend/frequent_patterns/fpcommon.py:161: DeprecationWarning: DataFrames with non-bool types result in worse computationalperformance and their support might be discontinued in the future.Please use a DataFrame with bool type\n",
      "  warnings.warn(\n"
     ]
    },
    {
     "data": {
      "text/plain": [
       "['Keeping It Local Brand',\n",
       " 'Oroweat Toast',\n",
       " 'Organic Salad',\n",
       " 'Betty Crocker Cake Mix, Hot chocolate',\n",
       " 'Spanish Brunch Café',\n",
       " 'Medialuna Pastry',\n",
       " 'Danish Pastry',\n",
       " 'Tiffin Box',\n",
       " 'La Pâtisserie Alfajores',\n",
       " 'Hearty & Seasonal Foods',\n",
       " 'Tropicana Orange Juice',\n",
       " 'Subway Sandwich',\n",
       " 'Betty Crocker Cake Mix',\n",
       " 'Twinings Scone',\n",
       " \"Chi's Ahoy Chocolate Chip Cookies\",\n",
       " 'Hot chocolate',\n",
       " 'Jammie Dodgers Biscuits',\n",
       " 'Ghirardelli Brownie',\n",
       " 'Hostess Muffin']"
      ]
     },
     "execution_count": 56,
     "metadata": {},
     "output_type": "execute_result"
    }
   ],
   "source": [
    "#Running the Assocaition Rules for 'Coffee'\n",
    "arm_ML('Starbucks Coffee')"
   ]
  },
  {
   "cell_type": "code",
   "execution_count": 57,
   "id": "4d73c036",
   "metadata": {},
   "outputs": [
    {
     "name": "stderr",
     "output_type": "stream",
     "text": [
      "/Users/adityabhatkal/Desktop/Changes addy-bhatkal-portfolio _ being made/env2/lib/python3.11/site-packages/mlxtend/frequent_patterns/fpcommon.py:161: DeprecationWarning: DataFrames with non-bool types result in worse computationalperformance and their support might be discontinued in the future.Please use a DataFrame with bool type\n",
      "  warnings.warn(\n"
     ]
    },
    {
     "data": {
      "text/html": [
       "<div>\n",
       "<style scoped>\n",
       "    .dataframe tbody tr th:only-of-type {\n",
       "        vertical-align: middle;\n",
       "    }\n",
       "\n",
       "    .dataframe tbody tr th {\n",
       "        vertical-align: top;\n",
       "    }\n",
       "\n",
       "    .dataframe thead th {\n",
       "        text-align: right;\n",
       "    }\n",
       "</style>\n",
       "<table border=\"1\" class=\"dataframe\">\n",
       "  <thead>\n",
       "    <tr style=\"text-align: right;\">\n",
       "      <th></th>\n",
       "      <th>antecedents</th>\n",
       "      <th>consequents</th>\n",
       "    </tr>\n",
       "  </thead>\n",
       "  <tbody>\n",
       "    <tr>\n",
       "      <th>0</th>\n",
       "      <td>Coca-Cola</td>\n",
       "      <td>Subway Sandwich</td>\n",
       "    </tr>\n",
       "    <tr>\n",
       "      <th>1</th>\n",
       "      <td>Subway Sandwich</td>\n",
       "      <td>Coca-Cola</td>\n",
       "    </tr>\n",
       "    <tr>\n",
       "      <th>2</th>\n",
       "      <td>Chi's Ahoy Chocolate Chip Cookies</td>\n",
       "      <td>Tropicana Orange Juice</td>\n",
       "    </tr>\n",
       "    <tr>\n",
       "      <th>3</th>\n",
       "      <td>Tropicana Orange Juice</td>\n",
       "      <td>Chi's Ahoy Chocolate Chip Cookies</td>\n",
       "    </tr>\n",
       "    <tr>\n",
       "      <th>4</th>\n",
       "      <td>Hot chocolate, Starbucks Coffee</td>\n",
       "      <td>Betty Crocker Cake Mix</td>\n",
       "    </tr>\n",
       "  </tbody>\n",
       "</table>\n",
       "</div>"
      ],
      "text/plain": [
       "                         antecedents                        consequents\n",
       "0                          Coca-Cola                    Subway Sandwich\n",
       "1                    Subway Sandwich                          Coca-Cola\n",
       "2  Chi's Ahoy Chocolate Chip Cookies             Tropicana Orange Juice\n",
       "3             Tropicana Orange Juice  Chi's Ahoy Chocolate Chip Cookies\n",
       "4    Hot chocolate, Starbucks Coffee             Betty Crocker Cake Mix"
      ]
     },
     "execution_count": 57,
     "metadata": {},
     "output_type": "execute_result"
    }
   ],
   "source": [
    "#Code without the 'def' function to check each element if needed \n",
    "\n",
    "df2['Items'] = df2['Items'].str.strip()\n",
    "basket = df2.groupby(['TransactionNo','Items'])['DateTime'].sum().unstack().reset_index().fillna(0).set_index('TransactionNo')\n",
    "def encode(y):\n",
    "    if y== 0:\n",
    "        return 0\n",
    "    if y!= 0:\n",
    "        return 1\n",
    "basket = basket.map(encode)\n",
    "freq = apriori(basket, min_support=0.005, use_colnames=True)\n",
    "rules = association_rules(freq, freq['itemsets'], metric='lift', min_threshold=1)\n",
    "rules2 = rules.sort_values(by='lift', ascending = False)\n",
    "df_rules = rules2.reset_index()\n",
    "idx = [i for i in range(df_rules.shape[0])]\n",
    "df3 = df_rules[['antecedents', 'consequents']].iloc[idx,:].reset_index().drop('index', axis = 1)\n",
    "df3['antecedents'] = df3['antecedents'].apply(lambda x: ', '.join(list(x)))\n",
    "df3['consequents'] = df3['consequents'].apply(lambda x: ', '.join(list(x)))\n",
    "df3.head()\n"
   ]
  },
  {
   "cell_type": "code",
   "execution_count": 58,
   "id": "5268eeeb",
   "metadata": {},
   "outputs": [
    {
     "data": {
      "text/plain": [
       "array(['Coca-Cola', 'Subway Sandwich',\n",
       "       \"Chi's Ahoy Chocolate Chip Cookies\", 'Tropicana Orange Juice',\n",
       "       'Hot chocolate, Starbucks Coffee', 'Betty Crocker Cake Mix',\n",
       "       \"Campbell's Soup\", 'Betty Crocker Cake Mix, Starbucks Coffee',\n",
       "       'Hot chocolate', 'Lipton Tea, Starbucks Coffee', 'Lipton Tea',\n",
       "       'Danish Pastry', 'Medialuna Pastry', 'Twinings Scone',\n",
       "       'Keeping It Local Brand', 'Starbucks Coffee', 'Oroweat Toast',\n",
       "       'Wonder Bread, Starbucks Coffee', 'Organic Salad',\n",
       "       'La Pâtisserie Alfajores', 'Betty Crocker Cake Mix, Hot chocolate',\n",
       "       'Spanish Brunch Café', 'Hostess Muffin', 'Ghirardelli Brownie',\n",
       "       'Tiffin Box', 'Hearty & Seasonal Foods', 'Jammie Dodgers Biscuits',\n",
       "       'Wonder Bread', \"Smucker's Jam\"], dtype=object)"
      ]
     },
     "execution_count": 58,
     "metadata": {},
     "output_type": "execute_result"
    }
   ],
   "source": [
    "#Drop down list for addybhatkal.com\n",
    "dropdown_list = df3['antecedents'].unique()\n",
    "dropdown_list"
   ]
  }
 ],
 "metadata": {
  "kernelspec": {
   "display_name": "Python 3 (ipykernel)",
   "language": "python",
   "name": "python3"
  },
  "language_info": {
   "codemirror_mode": {
    "name": "ipython",
    "version": 3
   },
   "file_extension": ".py",
   "mimetype": "text/x-python",
   "name": "python",
   "nbconvert_exporter": "python",
   "pygments_lexer": "ipython3",
   "version": "3.11.7"
  }
 },
 "nbformat": 4,
 "nbformat_minor": 5
}
