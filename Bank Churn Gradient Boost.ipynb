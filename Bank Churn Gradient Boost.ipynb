{
 "cells": [
  {
   "cell_type": "code",
   "execution_count": 37,
   "id": "a540c00c",
   "metadata": {},
   "outputs": [],
   "source": [
    "import pandas as pd\n",
    "import numpy as np\n",
    "import os\n",
    "from sklearn.preprocessing import LabelEncoder\n",
    "from sklearn.preprocessing import MinMaxScaler, StandardScaler\n",
    "import matplotlib.pyplot as plt\n",
    "from sklearn.linear_model import LogisticRegression\n",
    "from sklearn.ensemble import RandomForestClassifier, GradientBoostingClassifier\n",
    "from sklearn.tree import DecisionTreeClassifier\n",
    "from sklearn.model_selection import train_test_split, cross_val_score\n",
    "from sklearn.metrics import accuracy_score\n",
    "from sklearn.neighbors import KNeighborsClassifier\n",
    "from sklearn.cluster import KMeans\n",
    "from sklearn.svm import SVC"
   ]
  },
  {
   "cell_type": "code",
   "execution_count": 2,
   "id": "3c745af3",
   "metadata": {},
   "outputs": [],
   "source": [
    "from sklearn.preprocessing import LabelEncoder\n",
    "from sklearn.preprocessing import MinMaxScaler, StandardScaler\n",
    "from sklearn.ensemble import GradientBoostingClassifier\n"
   ]
  },
  {
   "cell_type": "code",
   "execution_count": 3,
   "id": "2869bc78",
   "metadata": {},
   "outputs": [],
   "source": [
    "os.chdir('C:\\\\Users\\\\ABC\\\\6. Datasets')"
   ]
  },
  {
   "cell_type": "code",
   "execution_count": 4,
   "id": "1ca20158",
   "metadata": {},
   "outputs": [],
   "source": [
    "df1 = pd.read_csv('BankChurn.csv')"
   ]
  },
  {
   "cell_type": "code",
   "execution_count": 5,
   "id": "19e9d561",
   "metadata": {},
   "outputs": [
    {
     "data": {
      "text/plain": [
       "Index(['RowNumber', 'CustomerId', 'Surname', 'CreditScore', 'Geography',\n",
       "       'Gender', 'Age', 'Tenure', 'Balance', 'NumOfProducts', 'HasCrCard',\n",
       "       'IsActiveMember', 'EstimatedSalary', 'Exited'],\n",
       "      dtype='object')"
      ]
     },
     "execution_count": 5,
     "metadata": {},
     "output_type": "execute_result"
    }
   ],
   "source": [
    "df1.columns"
   ]
  },
  {
   "cell_type": "code",
   "execution_count": 6,
   "id": "afd4454c",
   "metadata": {},
   "outputs": [
    {
     "data": {
      "text/plain": [
       "0    7964\n",
       "1    2038\n",
       "Name: Exited, dtype: int64"
      ]
     },
     "execution_count": 6,
     "metadata": {},
     "output_type": "execute_result"
    }
   ],
   "source": [
    "df1['Exited'].value_counts()\n",
    "#1 = YES\n",
    "#0 = NO"
   ]
  },
  {
   "cell_type": "code",
   "execution_count": 7,
   "id": "a7ccf0c1",
   "metadata": {},
   "outputs": [
    {
     "name": "stdout",
     "output_type": "stream",
     "text": [
      "['Female' 'Male']\n"
     ]
    }
   ],
   "source": [
    "df2 = df1.drop(['RowNumber', 'CustomerId', 'Surname', 'Geography'], axis = 1)\n",
    "le = LabelEncoder()\n",
    "df2['Gender'] = le.fit_transform(df2['Gender'])\n",
    "print(le.classes_) #0 is female"
   ]
  },
  {
   "cell_type": "code",
   "execution_count": 8,
   "id": "43c99821",
   "metadata": {},
   "outputs": [
    {
     "data": {
      "text/plain": [
       "CreditScore        0\n",
       "Gender             0\n",
       "Age                1\n",
       "Tenure             0\n",
       "Balance            0\n",
       "NumOfProducts      0\n",
       "HasCrCard          1\n",
       "IsActiveMember     1\n",
       "EstimatedSalary    0\n",
       "Exited             0\n",
       "dtype: int64"
      ]
     },
     "execution_count": 8,
     "metadata": {},
     "output_type": "execute_result"
    }
   ],
   "source": [
    "df2.isnull().sum()"
   ]
  },
  {
   "cell_type": "code",
   "execution_count": 9,
   "id": "08e9353a",
   "metadata": {},
   "outputs": [
    {
     "data": {
      "text/html": [
       "<div>\n",
       "<style scoped>\n",
       "    .dataframe tbody tr th:only-of-type {\n",
       "        vertical-align: middle;\n",
       "    }\n",
       "\n",
       "    .dataframe tbody tr th {\n",
       "        vertical-align: top;\n",
       "    }\n",
       "\n",
       "    .dataframe thead th {\n",
       "        text-align: right;\n",
       "    }\n",
       "</style>\n",
       "<table border=\"1\" class=\"dataframe\">\n",
       "  <thead>\n",
       "    <tr style=\"text-align: right;\">\n",
       "      <th></th>\n",
       "      <th>CreditScore</th>\n",
       "      <th>Gender</th>\n",
       "      <th>Age</th>\n",
       "      <th>Tenure</th>\n",
       "      <th>Balance</th>\n",
       "      <th>NumOfProducts</th>\n",
       "      <th>HasCrCard</th>\n",
       "      <th>IsActiveMember</th>\n",
       "      <th>EstimatedSalary</th>\n",
       "      <th>Exited</th>\n",
       "    </tr>\n",
       "  </thead>\n",
       "  <tbody>\n",
       "    <tr>\n",
       "      <th>9</th>\n",
       "      <td>684</td>\n",
       "      <td>1</td>\n",
       "      <td>NaN</td>\n",
       "      <td>2</td>\n",
       "      <td>134603.88</td>\n",
       "      <td>1</td>\n",
       "      <td>1.0</td>\n",
       "      <td>1.0</td>\n",
       "      <td>71725.73</td>\n",
       "      <td>0</td>\n",
       "    </tr>\n",
       "  </tbody>\n",
       "</table>\n",
       "</div>"
      ],
      "text/plain": [
       "   CreditScore  Gender  Age  Tenure    Balance  NumOfProducts  HasCrCard  \\\n",
       "9          684       1  NaN       2  134603.88              1        1.0   \n",
       "\n",
       "   IsActiveMember  EstimatedSalary  Exited  \n",
       "9             1.0         71725.73       0  "
      ]
     },
     "execution_count": 9,
     "metadata": {},
     "output_type": "execute_result"
    }
   ],
   "source": [
    "df2['Age'].isnull().value_counts()\n",
    "\n",
    "df2[df2['Age'].isnull()==True] #found the missing ONE!! YASS!!"
   ]
  },
  {
   "cell_type": "code",
   "execution_count": 10,
   "id": "61d77f9b",
   "metadata": {},
   "outputs": [],
   "source": [
    "df2['Age'].fillna(method='ffill', inplace=True)\n",
    "#help(df2['Age'].fillna)"
   ]
  },
  {
   "cell_type": "code",
   "execution_count": 11,
   "id": "110009b9",
   "metadata": {},
   "outputs": [
    {
     "data": {
      "text/html": [
       "<div>\n",
       "<style scoped>\n",
       "    .dataframe tbody tr th:only-of-type {\n",
       "        vertical-align: middle;\n",
       "    }\n",
       "\n",
       "    .dataframe tbody tr th {\n",
       "        vertical-align: top;\n",
       "    }\n",
       "\n",
       "    .dataframe thead th {\n",
       "        text-align: right;\n",
       "    }\n",
       "</style>\n",
       "<table border=\"1\" class=\"dataframe\">\n",
       "  <thead>\n",
       "    <tr style=\"text-align: right;\">\n",
       "      <th></th>\n",
       "      <th>CreditScore</th>\n",
       "      <th>Gender</th>\n",
       "      <th>Age</th>\n",
       "      <th>Tenure</th>\n",
       "      <th>Balance</th>\n",
       "      <th>NumOfProducts</th>\n",
       "      <th>HasCrCard</th>\n",
       "      <th>IsActiveMember</th>\n",
       "      <th>EstimatedSalary</th>\n",
       "      <th>Exited</th>\n",
       "    </tr>\n",
       "  </thead>\n",
       "  <tbody>\n",
       "  </tbody>\n",
       "</table>\n",
       "</div>"
      ],
      "text/plain": [
       "Empty DataFrame\n",
       "Columns: [CreditScore, Gender, Age, Tenure, Balance, NumOfProducts, HasCrCard, IsActiveMember, EstimatedSalary, Exited]\n",
       "Index: []"
      ]
     },
     "execution_count": 11,
     "metadata": {},
     "output_type": "execute_result"
    }
   ],
   "source": [
    "df2[df2['Age'].isnull()==True]"
   ]
  },
  {
   "cell_type": "code",
   "execution_count": 21,
   "id": "d9a73a8b",
   "metadata": {},
   "outputs": [],
   "source": [
    "#df2.fillna(df2['Age'], method='ffill', inplace=True)"
   ]
  },
  {
   "cell_type": "code",
   "execution_count": 13,
   "id": "a55370d6",
   "metadata": {},
   "outputs": [
    {
     "data": {
      "text/html": [
       "<div>\n",
       "<style scoped>\n",
       "    .dataframe tbody tr th:only-of-type {\n",
       "        vertical-align: middle;\n",
       "    }\n",
       "\n",
       "    .dataframe tbody tr th {\n",
       "        vertical-align: top;\n",
       "    }\n",
       "\n",
       "    .dataframe thead th {\n",
       "        text-align: right;\n",
       "    }\n",
       "</style>\n",
       "<table border=\"1\" class=\"dataframe\">\n",
       "  <thead>\n",
       "    <tr style=\"text-align: right;\">\n",
       "      <th></th>\n",
       "      <th>CreditScore</th>\n",
       "      <th>Gender</th>\n",
       "      <th>Age</th>\n",
       "      <th>Tenure</th>\n",
       "      <th>Balance</th>\n",
       "      <th>NumOfProducts</th>\n",
       "      <th>HasCrCard</th>\n",
       "      <th>IsActiveMember</th>\n",
       "      <th>EstimatedSalary</th>\n",
       "      <th>Exited</th>\n",
       "    </tr>\n",
       "  </thead>\n",
       "  <tbody>\n",
       "    <tr>\n",
       "      <th>4</th>\n",
       "      <td>850</td>\n",
       "      <td>0</td>\n",
       "      <td>43.0</td>\n",
       "      <td>2</td>\n",
       "      <td>125510.82</td>\n",
       "      <td>1</td>\n",
       "      <td>NaN</td>\n",
       "      <td>1.0</td>\n",
       "      <td>79084.1</td>\n",
       "      <td>0</td>\n",
       "    </tr>\n",
       "  </tbody>\n",
       "</table>\n",
       "</div>"
      ],
      "text/plain": [
       "   CreditScore  Gender   Age  Tenure    Balance  NumOfProducts  HasCrCard  \\\n",
       "4          850       0  43.0       2  125510.82              1        NaN   \n",
       "\n",
       "   IsActiveMember  EstimatedSalary  Exited  \n",
       "4             1.0          79084.1       0  "
      ]
     },
     "execution_count": 13,
     "metadata": {},
     "output_type": "execute_result"
    }
   ],
   "source": [
    "df2[df2['HasCrCard'].isnull()==True]"
   ]
  },
  {
   "cell_type": "code",
   "execution_count": 14,
   "id": "9cde58e0",
   "metadata": {},
   "outputs": [],
   "source": [
    "df2['HasCrCard'].fillna('1.0', inplace=True)"
   ]
  },
  {
   "cell_type": "code",
   "execution_count": 15,
   "id": "2a1645b3",
   "metadata": {},
   "outputs": [
    {
     "data": {
      "text/html": [
       "<div>\n",
       "<style scoped>\n",
       "    .dataframe tbody tr th:only-of-type {\n",
       "        vertical-align: middle;\n",
       "    }\n",
       "\n",
       "    .dataframe tbody tr th {\n",
       "        vertical-align: top;\n",
       "    }\n",
       "\n",
       "    .dataframe thead th {\n",
       "        text-align: right;\n",
       "    }\n",
       "</style>\n",
       "<table border=\"1\" class=\"dataframe\">\n",
       "  <thead>\n",
       "    <tr style=\"text-align: right;\">\n",
       "      <th></th>\n",
       "      <th>CreditScore</th>\n",
       "      <th>Gender</th>\n",
       "      <th>Age</th>\n",
       "      <th>Tenure</th>\n",
       "      <th>Balance</th>\n",
       "      <th>NumOfProducts</th>\n",
       "      <th>HasCrCard</th>\n",
       "      <th>IsActiveMember</th>\n",
       "      <th>EstimatedSalary</th>\n",
       "      <th>Exited</th>\n",
       "    </tr>\n",
       "  </thead>\n",
       "  <tbody>\n",
       "  </tbody>\n",
       "</table>\n",
       "</div>"
      ],
      "text/plain": [
       "Empty DataFrame\n",
       "Columns: [CreditScore, Gender, Age, Tenure, Balance, NumOfProducts, HasCrCard, IsActiveMember, EstimatedSalary, Exited]\n",
       "Index: []"
      ]
     },
     "execution_count": 15,
     "metadata": {},
     "output_type": "execute_result"
    }
   ],
   "source": [
    "df2[df2['HasCrCard'].isnull()==True]"
   ]
  },
  {
   "cell_type": "code",
   "execution_count": 16,
   "id": "11d00bef",
   "metadata": {},
   "outputs": [
    {
     "data": {
      "text/html": [
       "<div>\n",
       "<style scoped>\n",
       "    .dataframe tbody tr th:only-of-type {\n",
       "        vertical-align: middle;\n",
       "    }\n",
       "\n",
       "    .dataframe tbody tr th {\n",
       "        vertical-align: top;\n",
       "    }\n",
       "\n",
       "    .dataframe thead th {\n",
       "        text-align: right;\n",
       "    }\n",
       "</style>\n",
       "<table border=\"1\" class=\"dataframe\">\n",
       "  <thead>\n",
       "    <tr style=\"text-align: right;\">\n",
       "      <th></th>\n",
       "      <th>CreditScore</th>\n",
       "      <th>Gender</th>\n",
       "      <th>Age</th>\n",
       "      <th>Tenure</th>\n",
       "      <th>Balance</th>\n",
       "      <th>NumOfProducts</th>\n",
       "      <th>HasCrCard</th>\n",
       "      <th>IsActiveMember</th>\n",
       "      <th>EstimatedSalary</th>\n",
       "      <th>Exited</th>\n",
       "    </tr>\n",
       "  </thead>\n",
       "  <tbody>\n",
       "    <tr>\n",
       "      <th>8</th>\n",
       "      <td>501</td>\n",
       "      <td>1</td>\n",
       "      <td>44.0</td>\n",
       "      <td>4</td>\n",
       "      <td>142051.07</td>\n",
       "      <td>2</td>\n",
       "      <td>0.0</td>\n",
       "      <td>NaN</td>\n",
       "      <td>74940.5</td>\n",
       "      <td>0</td>\n",
       "    </tr>\n",
       "  </tbody>\n",
       "</table>\n",
       "</div>"
      ],
      "text/plain": [
       "   CreditScore  Gender   Age  Tenure    Balance  NumOfProducts HasCrCard  \\\n",
       "8          501       1  44.0       4  142051.07              2       0.0   \n",
       "\n",
       "   IsActiveMember  EstimatedSalary  Exited  \n",
       "8             NaN          74940.5       0  "
      ]
     },
     "execution_count": 16,
     "metadata": {},
     "output_type": "execute_result"
    }
   ],
   "source": [
    "df2[df2['IsActiveMember'].isnull()==True]"
   ]
  },
  {
   "cell_type": "code",
   "execution_count": 22,
   "id": "2658e1f4",
   "metadata": {},
   "outputs": [],
   "source": [
    "df2['IsActiveMember'].fillna('1.0', inplace=True)"
   ]
  },
  {
   "cell_type": "code",
   "execution_count": 23,
   "id": "dbf91a7c",
   "metadata": {},
   "outputs": [
    {
     "data": {
      "text/html": [
       "<div>\n",
       "<style scoped>\n",
       "    .dataframe tbody tr th:only-of-type {\n",
       "        vertical-align: middle;\n",
       "    }\n",
       "\n",
       "    .dataframe tbody tr th {\n",
       "        vertical-align: top;\n",
       "    }\n",
       "\n",
       "    .dataframe thead th {\n",
       "        text-align: right;\n",
       "    }\n",
       "</style>\n",
       "<table border=\"1\" class=\"dataframe\">\n",
       "  <thead>\n",
       "    <tr style=\"text-align: right;\">\n",
       "      <th></th>\n",
       "      <th>CreditScore</th>\n",
       "      <th>Gender</th>\n",
       "      <th>Age</th>\n",
       "      <th>Tenure</th>\n",
       "      <th>Balance</th>\n",
       "      <th>NumOfProducts</th>\n",
       "      <th>HasCrCard</th>\n",
       "      <th>IsActiveMember</th>\n",
       "      <th>EstimatedSalary</th>\n",
       "      <th>Exited</th>\n",
       "    </tr>\n",
       "  </thead>\n",
       "  <tbody>\n",
       "  </tbody>\n",
       "</table>\n",
       "</div>"
      ],
      "text/plain": [
       "Empty DataFrame\n",
       "Columns: [CreditScore, Gender, Age, Tenure, Balance, NumOfProducts, HasCrCard, IsActiveMember, EstimatedSalary, Exited]\n",
       "Index: []"
      ]
     },
     "execution_count": 23,
     "metadata": {},
     "output_type": "execute_result"
    }
   ],
   "source": [
    "df2[df2['IsActiveMember'].isnull()==True]"
   ]
  },
  {
   "cell_type": "code",
   "execution_count": 24,
   "id": "69c26a86",
   "metadata": {},
   "outputs": [
    {
     "data": {
      "text/plain": [
       "CreditScore        0\n",
       "Gender             0\n",
       "Age                0\n",
       "Tenure             0\n",
       "Balance            0\n",
       "NumOfProducts      0\n",
       "HasCrCard          0\n",
       "IsActiveMember     0\n",
       "EstimatedSalary    0\n",
       "Exited             0\n",
       "dtype: int64"
      ]
     },
     "execution_count": 24,
     "metadata": {},
     "output_type": "execute_result"
    }
   ],
   "source": [
    "df2.isnull().sum()"
   ]
  },
  {
   "cell_type": "code",
   "execution_count": 25,
   "id": "0a437451",
   "metadata": {},
   "outputs": [
    {
     "data": {
      "text/html": [
       "<div>\n",
       "<style scoped>\n",
       "    .dataframe tbody tr th:only-of-type {\n",
       "        vertical-align: middle;\n",
       "    }\n",
       "\n",
       "    .dataframe tbody tr th {\n",
       "        vertical-align: top;\n",
       "    }\n",
       "\n",
       "    .dataframe thead th {\n",
       "        text-align: right;\n",
       "    }\n",
       "</style>\n",
       "<table border=\"1\" class=\"dataframe\">\n",
       "  <thead>\n",
       "    <tr style=\"text-align: right;\">\n",
       "      <th></th>\n",
       "      <th>CreditScore</th>\n",
       "      <th>Gender</th>\n",
       "      <th>Age</th>\n",
       "      <th>Tenure</th>\n",
       "      <th>Balance</th>\n",
       "      <th>NumOfProducts</th>\n",
       "      <th>HasCrCard</th>\n",
       "      <th>IsActiveMember</th>\n",
       "      <th>EstimatedSalary</th>\n",
       "    </tr>\n",
       "  </thead>\n",
       "  <tbody>\n",
       "    <tr>\n",
       "      <th>0</th>\n",
       "      <td>619</td>\n",
       "      <td>0</td>\n",
       "      <td>42.0</td>\n",
       "      <td>2</td>\n",
       "      <td>0.00</td>\n",
       "      <td>1</td>\n",
       "      <td>1.0</td>\n",
       "      <td>1.0</td>\n",
       "      <td>101348.88</td>\n",
       "    </tr>\n",
       "    <tr>\n",
       "      <th>1</th>\n",
       "      <td>608</td>\n",
       "      <td>0</td>\n",
       "      <td>41.0</td>\n",
       "      <td>1</td>\n",
       "      <td>83807.86</td>\n",
       "      <td>1</td>\n",
       "      <td>0.0</td>\n",
       "      <td>1.0</td>\n",
       "      <td>112542.58</td>\n",
       "    </tr>\n",
       "    <tr>\n",
       "      <th>2</th>\n",
       "      <td>502</td>\n",
       "      <td>0</td>\n",
       "      <td>42.0</td>\n",
       "      <td>8</td>\n",
       "      <td>159660.80</td>\n",
       "      <td>3</td>\n",
       "      <td>1.0</td>\n",
       "      <td>0.0</td>\n",
       "      <td>113931.57</td>\n",
       "    </tr>\n",
       "    <tr>\n",
       "      <th>3</th>\n",
       "      <td>699</td>\n",
       "      <td>0</td>\n",
       "      <td>39.0</td>\n",
       "      <td>1</td>\n",
       "      <td>0.00</td>\n",
       "      <td>2</td>\n",
       "      <td>0.0</td>\n",
       "      <td>0.0</td>\n",
       "      <td>93826.63</td>\n",
       "    </tr>\n",
       "    <tr>\n",
       "      <th>4</th>\n",
       "      <td>850</td>\n",
       "      <td>0</td>\n",
       "      <td>43.0</td>\n",
       "      <td>2</td>\n",
       "      <td>125510.82</td>\n",
       "      <td>1</td>\n",
       "      <td>1.0</td>\n",
       "      <td>1.0</td>\n",
       "      <td>79084.10</td>\n",
       "    </tr>\n",
       "    <tr>\n",
       "      <th>...</th>\n",
       "      <td>...</td>\n",
       "      <td>...</td>\n",
       "      <td>...</td>\n",
       "      <td>...</td>\n",
       "      <td>...</td>\n",
       "      <td>...</td>\n",
       "      <td>...</td>\n",
       "      <td>...</td>\n",
       "      <td>...</td>\n",
       "    </tr>\n",
       "    <tr>\n",
       "      <th>9997</th>\n",
       "      <td>709</td>\n",
       "      <td>0</td>\n",
       "      <td>36.0</td>\n",
       "      <td>7</td>\n",
       "      <td>0.00</td>\n",
       "      <td>1</td>\n",
       "      <td>0.0</td>\n",
       "      <td>1.0</td>\n",
       "      <td>42085.58</td>\n",
       "    </tr>\n",
       "    <tr>\n",
       "      <th>9998</th>\n",
       "      <td>772</td>\n",
       "      <td>1</td>\n",
       "      <td>42.0</td>\n",
       "      <td>3</td>\n",
       "      <td>75075.31</td>\n",
       "      <td>2</td>\n",
       "      <td>1.0</td>\n",
       "      <td>0.0</td>\n",
       "      <td>92888.52</td>\n",
       "    </tr>\n",
       "    <tr>\n",
       "      <th>9999</th>\n",
       "      <td>772</td>\n",
       "      <td>1</td>\n",
       "      <td>42.0</td>\n",
       "      <td>3</td>\n",
       "      <td>75075.31</td>\n",
       "      <td>2</td>\n",
       "      <td>1.0</td>\n",
       "      <td>0.0</td>\n",
       "      <td>92888.52</td>\n",
       "    </tr>\n",
       "    <tr>\n",
       "      <th>10000</th>\n",
       "      <td>792</td>\n",
       "      <td>0</td>\n",
       "      <td>28.0</td>\n",
       "      <td>4</td>\n",
       "      <td>130142.79</td>\n",
       "      <td>1</td>\n",
       "      <td>1.0</td>\n",
       "      <td>0.0</td>\n",
       "      <td>38190.78</td>\n",
       "    </tr>\n",
       "    <tr>\n",
       "      <th>10001</th>\n",
       "      <td>792</td>\n",
       "      <td>0</td>\n",
       "      <td>28.0</td>\n",
       "      <td>4</td>\n",
       "      <td>130142.79</td>\n",
       "      <td>1</td>\n",
       "      <td>1.0</td>\n",
       "      <td>0.0</td>\n",
       "      <td>38190.78</td>\n",
       "    </tr>\n",
       "  </tbody>\n",
       "</table>\n",
       "<p>10002 rows × 9 columns</p>\n",
       "</div>"
      ],
      "text/plain": [
       "       CreditScore  Gender   Age  Tenure    Balance  NumOfProducts HasCrCard  \\\n",
       "0              619       0  42.0       2       0.00              1       1.0   \n",
       "1              608       0  41.0       1   83807.86              1       0.0   \n",
       "2              502       0  42.0       8  159660.80              3       1.0   \n",
       "3              699       0  39.0       1       0.00              2       0.0   \n",
       "4              850       0  43.0       2  125510.82              1       1.0   \n",
       "...            ...     ...   ...     ...        ...            ...       ...   \n",
       "9997           709       0  36.0       7       0.00              1       0.0   \n",
       "9998           772       1  42.0       3   75075.31              2       1.0   \n",
       "9999           772       1  42.0       3   75075.31              2       1.0   \n",
       "10000          792       0  28.0       4  130142.79              1       1.0   \n",
       "10001          792       0  28.0       4  130142.79              1       1.0   \n",
       "\n",
       "      IsActiveMember  EstimatedSalary  \n",
       "0                1.0        101348.88  \n",
       "1                1.0        112542.58  \n",
       "2                0.0        113931.57  \n",
       "3                0.0         93826.63  \n",
       "4                1.0         79084.10  \n",
       "...              ...              ...  \n",
       "9997             1.0         42085.58  \n",
       "9998             0.0         92888.52  \n",
       "9999             0.0         92888.52  \n",
       "10000            0.0         38190.78  \n",
       "10001            0.0         38190.78  \n",
       "\n",
       "[10002 rows x 9 columns]"
      ]
     },
     "execution_count": 25,
     "metadata": {},
     "output_type": "execute_result"
    }
   ],
   "source": [
    "y = df2.iloc[:, -1]\n",
    "x = df2.iloc[:, :-1]\n",
    "x"
   ]
  },
  {
   "cell_type": "code",
   "execution_count": null,
   "id": "32530c2c",
   "metadata": {},
   "outputs": [],
   "source": []
  },
  {
   "cell_type": "code",
   "execution_count": 26,
   "id": "67dd9d7d",
   "metadata": {},
   "outputs": [],
   "source": [
    "ss = StandardScaler() "
   ]
  },
  {
   "cell_type": "code",
   "execution_count": 27,
   "id": "52ff563c",
   "metadata": {},
   "outputs": [],
   "source": [
    "x = pd.DataFrame(ss.fit_transform(x), columns=x.columns)"
   ]
  },
  {
   "cell_type": "code",
   "execution_count": 28,
   "id": "a132feb7",
   "metadata": {},
   "outputs": [
    {
     "data": {
      "text/html": [
       "<div>\n",
       "<style scoped>\n",
       "    .dataframe tbody tr th:only-of-type {\n",
       "        vertical-align: middle;\n",
       "    }\n",
       "\n",
       "    .dataframe tbody tr th {\n",
       "        vertical-align: top;\n",
       "    }\n",
       "\n",
       "    .dataframe thead th {\n",
       "        text-align: right;\n",
       "    }\n",
       "</style>\n",
       "<table border=\"1\" class=\"dataframe\">\n",
       "  <thead>\n",
       "    <tr style=\"text-align: right;\">\n",
       "      <th></th>\n",
       "      <th>CreditScore</th>\n",
       "      <th>Gender</th>\n",
       "      <th>Age</th>\n",
       "      <th>Tenure</th>\n",
       "      <th>Balance</th>\n",
       "      <th>NumOfProducts</th>\n",
       "      <th>HasCrCard</th>\n",
       "      <th>IsActiveMember</th>\n",
       "      <th>EstimatedSalary</th>\n",
       "    </tr>\n",
       "  </thead>\n",
       "  <tbody>\n",
       "    <tr>\n",
       "      <th>0</th>\n",
       "      <td>-0.326465</td>\n",
       "      <td>-1.095967</td>\n",
       "      <td>0.293449</td>\n",
       "      <td>-1.041728</td>\n",
       "      <td>-1.226009</td>\n",
       "      <td>-0.911597</td>\n",
       "      <td>0.646000</td>\n",
       "      <td>0.970443</td>\n",
       "      <td>0.022008</td>\n",
       "    </tr>\n",
       "    <tr>\n",
       "      <th>1</th>\n",
       "      <td>-0.440270</td>\n",
       "      <td>-1.095967</td>\n",
       "      <td>0.198086</td>\n",
       "      <td>-1.387530</td>\n",
       "      <td>0.117274</td>\n",
       "      <td>-0.911597</td>\n",
       "      <td>-1.547987</td>\n",
       "      <td>0.970443</td>\n",
       "      <td>0.216663</td>\n",
       "    </tr>\n",
       "    <tr>\n",
       "      <th>2</th>\n",
       "      <td>-1.536934</td>\n",
       "      <td>-1.095967</td>\n",
       "      <td>0.293449</td>\n",
       "      <td>1.033084</td>\n",
       "      <td>1.333054</td>\n",
       "      <td>2.527132</td>\n",
       "      <td>0.646000</td>\n",
       "      <td>-1.030458</td>\n",
       "      <td>0.240817</td>\n",
       "    </tr>\n",
       "    <tr>\n",
       "      <th>3</th>\n",
       "      <td>0.501205</td>\n",
       "      <td>-1.095967</td>\n",
       "      <td>0.007360</td>\n",
       "      <td>-1.387530</td>\n",
       "      <td>-1.226009</td>\n",
       "      <td>0.807768</td>\n",
       "      <td>-1.547987</td>\n",
       "      <td>-1.030458</td>\n",
       "      <td>-0.108802</td>\n",
       "    </tr>\n",
       "    <tr>\n",
       "      <th>4</th>\n",
       "      <td>2.063434</td>\n",
       "      <td>-1.095967</td>\n",
       "      <td>0.388811</td>\n",
       "      <td>-1.041728</td>\n",
       "      <td>0.785694</td>\n",
       "      <td>-0.911597</td>\n",
       "      <td>0.646000</td>\n",
       "      <td>0.970443</td>\n",
       "      <td>-0.365171</td>\n",
       "    </tr>\n",
       "    <tr>\n",
       "      <th>...</th>\n",
       "      <td>...</td>\n",
       "      <td>...</td>\n",
       "      <td>...</td>\n",
       "      <td>...</td>\n",
       "      <td>...</td>\n",
       "      <td>...</td>\n",
       "      <td>...</td>\n",
       "      <td>...</td>\n",
       "      <td>...</td>\n",
       "    </tr>\n",
       "    <tr>\n",
       "      <th>9997</th>\n",
       "      <td>0.604664</td>\n",
       "      <td>-1.095967</td>\n",
       "      <td>-0.278728</td>\n",
       "      <td>0.687282</td>\n",
       "      <td>-1.226009</td>\n",
       "      <td>-0.911597</td>\n",
       "      <td>-1.547987</td>\n",
       "      <td>0.970443</td>\n",
       "      <td>-1.008565</td>\n",
       "    </tr>\n",
       "    <tr>\n",
       "      <th>9998</th>\n",
       "      <td>1.256455</td>\n",
       "      <td>0.912436</td>\n",
       "      <td>0.293449</td>\n",
       "      <td>-0.695926</td>\n",
       "      <td>-0.022693</td>\n",
       "      <td>0.807768</td>\n",
       "      <td>0.646000</td>\n",
       "      <td>-1.030458</td>\n",
       "      <td>-0.125116</td>\n",
       "    </tr>\n",
       "    <tr>\n",
       "      <th>9999</th>\n",
       "      <td>1.256455</td>\n",
       "      <td>0.912436</td>\n",
       "      <td>0.293449</td>\n",
       "      <td>-0.695926</td>\n",
       "      <td>-0.022693</td>\n",
       "      <td>0.807768</td>\n",
       "      <td>0.646000</td>\n",
       "      <td>-1.030458</td>\n",
       "      <td>-0.125116</td>\n",
       "    </tr>\n",
       "    <tr>\n",
       "      <th>10000</th>\n",
       "      <td>1.463373</td>\n",
       "      <td>-1.095967</td>\n",
       "      <td>-1.041630</td>\n",
       "      <td>-0.350124</td>\n",
       "      <td>0.859935</td>\n",
       "      <td>-0.911597</td>\n",
       "      <td>0.646000</td>\n",
       "      <td>-1.030458</td>\n",
       "      <td>-1.076294</td>\n",
       "    </tr>\n",
       "    <tr>\n",
       "      <th>10001</th>\n",
       "      <td>1.463373</td>\n",
       "      <td>-1.095967</td>\n",
       "      <td>-1.041630</td>\n",
       "      <td>-0.350124</td>\n",
       "      <td>0.859935</td>\n",
       "      <td>-0.911597</td>\n",
       "      <td>0.646000</td>\n",
       "      <td>-1.030458</td>\n",
       "      <td>-1.076294</td>\n",
       "    </tr>\n",
       "  </tbody>\n",
       "</table>\n",
       "<p>10002 rows × 9 columns</p>\n",
       "</div>"
      ],
      "text/plain": [
       "       CreditScore    Gender       Age    Tenure   Balance  NumOfProducts  \\\n",
       "0        -0.326465 -1.095967  0.293449 -1.041728 -1.226009      -0.911597   \n",
       "1        -0.440270 -1.095967  0.198086 -1.387530  0.117274      -0.911597   \n",
       "2        -1.536934 -1.095967  0.293449  1.033084  1.333054       2.527132   \n",
       "3         0.501205 -1.095967  0.007360 -1.387530 -1.226009       0.807768   \n",
       "4         2.063434 -1.095967  0.388811 -1.041728  0.785694      -0.911597   \n",
       "...            ...       ...       ...       ...       ...            ...   \n",
       "9997      0.604664 -1.095967 -0.278728  0.687282 -1.226009      -0.911597   \n",
       "9998      1.256455  0.912436  0.293449 -0.695926 -0.022693       0.807768   \n",
       "9999      1.256455  0.912436  0.293449 -0.695926 -0.022693       0.807768   \n",
       "10000     1.463373 -1.095967 -1.041630 -0.350124  0.859935      -0.911597   \n",
       "10001     1.463373 -1.095967 -1.041630 -0.350124  0.859935      -0.911597   \n",
       "\n",
       "       HasCrCard  IsActiveMember  EstimatedSalary  \n",
       "0       0.646000        0.970443         0.022008  \n",
       "1      -1.547987        0.970443         0.216663  \n",
       "2       0.646000       -1.030458         0.240817  \n",
       "3      -1.547987       -1.030458        -0.108802  \n",
       "4       0.646000        0.970443        -0.365171  \n",
       "...          ...             ...              ...  \n",
       "9997   -1.547987        0.970443        -1.008565  \n",
       "9998    0.646000       -1.030458        -0.125116  \n",
       "9999    0.646000       -1.030458        -0.125116  \n",
       "10000   0.646000       -1.030458        -1.076294  \n",
       "10001   0.646000       -1.030458        -1.076294  \n",
       "\n",
       "[10002 rows x 9 columns]"
      ]
     },
     "execution_count": 28,
     "metadata": {},
     "output_type": "execute_result"
    }
   ],
   "source": [
    "x"
   ]
  },
  {
   "cell_type": "code",
   "execution_count": 29,
   "id": "11e8258f",
   "metadata": {},
   "outputs": [
    {
     "data": {
      "text/plain": [
       "0        1\n",
       "1        0\n",
       "2        1\n",
       "3        0\n",
       "4        0\n",
       "        ..\n",
       "9997     1\n",
       "9998     1\n",
       "9999     1\n",
       "10000    0\n",
       "10001    0\n",
       "Name: Exited, Length: 10002, dtype: int64"
      ]
     },
     "execution_count": 29,
     "metadata": {},
     "output_type": "execute_result"
    }
   ],
   "source": [
    "y"
   ]
  },
  {
   "cell_type": "code",
   "execution_count": null,
   "id": "4a690400",
   "metadata": {},
   "outputs": [],
   "source": []
  },
  {
   "cell_type": "code",
   "execution_count": null,
   "id": "8921f595",
   "metadata": {
    "scrolled": true
   },
   "outputs": [],
   "source": []
  },
  {
   "cell_type": "code",
   "execution_count": 30,
   "id": "d283b7b1",
   "metadata": {},
   "outputs": [
    {
     "name": "stdout",
     "output_type": "stream",
     "text": [
      "847 0.8290854572713643\n"
     ]
    }
   ],
   "source": [
    "#Logistic Regresion\n",
    "for i in range(840, 850):\n",
    "    x_train_lr, x_test_lr, y_train_lr, y_test_lr = train_test_split(x,y,test_size=0.2, random_state=i)\n",
    "    lg = LogisticRegression()\n",
    "    model_lr = lg.fit(x_train_lr, y_train_lr)\n",
    "    y_predict_lr = model_lr.predict(x_test_lr)\n",
    "    acc_lr = accuracy_score(y_predict_lr, y_test_lr)\n",
    "    if acc_lr>0.829:\n",
    "        print(i, acc_lr)"
   ]
  },
  {
   "cell_type": "code",
   "execution_count": 31,
   "id": "87721e1d",
   "metadata": {},
   "outputs": [
    {
     "name": "stdout",
     "output_type": "stream",
     "text": [
      "1242 0.8000999500249875\n"
     ]
    }
   ],
   "source": [
    "#Decision Tree\n",
    "for j in range(1242,1250):\n",
    "    x_train_dt, x_test_dt, y_train_dt, y_test_dt = train_test_split(x,y,test_size=0.2, random_state=j)\n",
    "    dt = DecisionTreeClassifier()\n",
    "    model_dt = dt.fit(x_train_dt, y_train_dt)\n",
    "    y_predict_dt = model_dt.predict(x_test_dt)\n",
    "    acc_dt = accuracy_score(y_test_dt, y_predict_dt)\n",
    "    if acc_dt > 0.80:\n",
    "        print(j, acc_dt)"
   ]
  },
  {
   "cell_type": "code",
   "execution_count": 32,
   "id": "3a3e9223",
   "metadata": {},
   "outputs": [
    {
     "name": "stdout",
     "output_type": "stream",
     "text": [
      "55 0.8700649675162418\n"
     ]
    }
   ],
   "source": [
    "#RandomForest\n",
    "for k in range(54,60):\n",
    "    x_train_rf, x_test_rf, y_train_rf,y_test_rf = train_test_split(x,y,test_size=0.2, random_state=k)\n",
    "    rf = RandomForestClassifier()\n",
    "    model_rf = rf.fit(x_train_rf, y_train_rf)\n",
    "    y_predict_rf = model_rf.predict(x_test_rf)\n",
    "    acc_rf = accuracy_score(y_test_rf, y_predict_rf)\n",
    "    if acc_rf>0.86:\n",
    "        print(k, acc_rf)"
   ]
  },
  {
   "cell_type": "code",
   "execution_count": 33,
   "id": "bb8cef2f",
   "metadata": {},
   "outputs": [
    {
     "name": "stdout",
     "output_type": "stream",
     "text": [
      "279 0.8555722138930535\n"
     ]
    }
   ],
   "source": [
    "#KNN\n",
    "import warnings\n",
    "# Suppress FutureWarnings\n",
    "warnings.simplefilter(action='ignore', category=FutureWarning)\n",
    "try: \n",
    "    for l in range(278, 285):\n",
    "        x_train_knn, x_test_knn, y_train_knn, y_test_knn = train_test_split(x,y,test_size=0.2, \n",
    "                                                                            random_state=l)\n",
    "        knn = KNeighborsClassifier()\n",
    "        model_knn = knn.fit(x_train_knn, y_train_knn)\n",
    "        y_predict_knn = model_knn.predict(x_test_knn)\n",
    "        acc_knn = accuracy_score(y_predict_knn, y_test_knn)\n",
    "        if acc_knn > 0.85:\n",
    "            print(l, acc_knn)\n",
    "except ValueError:\n",
    "    print(\"Invalid\")"
   ]
  },
  {
   "cell_type": "code",
   "execution_count": 34,
   "id": "8dd373a5",
   "metadata": {},
   "outputs": [
    {
     "name": "stdout",
     "output_type": "stream",
     "text": [
      "54 0.8615692153923038\n",
      "55 0.8700649675162418\n"
     ]
    }
   ],
   "source": [
    "#Support Vector Machines\n",
    "for m in range(54,56):\n",
    "    x_train_svc, x_test_svc, y_train_svc, y_test_svc = train_test_split(x,y,test_size = 0.2,\n",
    "                                                                        random_state = m)\n",
    "    svc = SVC()\n",
    "    model_svc = svc.fit(x_train_svc, y_train_svc)\n",
    "    y_predict_svc = model_svc.predict(x_test_svc)\n",
    "    acc_svc = accuracy_score(y_test_svc, y_predict_svc)\n",
    "    if acc_svc > 0.86:\n",
    "        print(m, acc_svc)"
   ]
  },
  {
   "cell_type": "code",
   "execution_count": 35,
   "id": "e6779bd0",
   "metadata": {},
   "outputs": [
    {
     "name": "stdout",
     "output_type": "stream",
     "text": [
      "55 0.8750624687656172\n"
     ]
    }
   ],
   "source": [
    "#GradientBoostingClassifier\n",
    "for n in range(54, 56):\n",
    "    x_train_gb, x_test_gb, y_train_gb, y_test_gb = train_test_split(x,y,test_size = 0.2, \n",
    "                                                                    random_state = n)\n",
    "    gb = GradientBoostingClassifier()\n",
    "    model_gb = gb.fit(x_train_gb, y_train_gb)\n",
    "    y_predict_gb = gb.predict(x_test_gb)\n",
    "    acc_gb = accuracy_score(y_predict_gb, y_test_gb)\n",
    "    if acc_gb > 0.87:\n",
    "        print(n, acc_gb)"
   ]
  },
  {
   "cell_type": "code",
   "execution_count": 39,
   "id": "4fac5517",
   "metadata": {},
   "outputs": [
    {
     "name": "stdout",
     "output_type": "stream",
     "text": [
      "0.8745627186406797\n"
     ]
    },
    {
     "data": {
      "text/plain": [
       "array([0.86356822, 0.86056972, 0.855     , 0.8705    , 0.8495    ])"
      ]
     },
     "execution_count": 39,
     "metadata": {},
     "output_type": "execute_result"
    }
   ],
   "source": [
    "#THIS ONES IT.\n",
    "#GradientBoostingClassifier_Main\n",
    "x_train_gb, x_test_gb, y_train_gb, y_test_gb = train_test_split(x,y,test_size = 0.2, \n",
    "                                                                random_state = 55)\n",
    "gb = GradientBoostingClassifier()\n",
    "model_gb = gb.fit(x_train_gb, y_train_gb)\n",
    "y_predict_gb = gb.predict(x_test_gb)\n",
    "acc_gb = accuracy_score(y_predict_gb, y_test_gb)\n",
    "print(acc_gb)\n",
    "cv = cross_val_score(gb, x,y,scoring='accuracy', cv=5 )\n",
    "print(cv)"
   ]
  },
  {
   "cell_type": "code",
   "execution_count": null,
   "id": "37e7215c",
   "metadata": {},
   "outputs": [],
   "source": []
  },
  {
   "cell_type": "code",
   "execution_count": 41,
   "id": "b9a8ca7c",
   "metadata": {},
   "outputs": [],
   "source": [
    "import pickle\n",
    "with open('bankchurn.sav', 'wb') as f1:\n",
    "    pickle.dump(model_gb, f1)"
   ]
  },
  {
   "cell_type": "code",
   "execution_count": 42,
   "id": "1ce00640",
   "metadata": {},
   "outputs": [],
   "source": [
    "with open('bankchurn.sav', 'rb') as f2:\n",
    "    loaded_bankchurn = pickle.load(f2)"
   ]
  },
  {
   "cell_type": "code",
   "execution_count": 48,
   "id": "cff81a2e",
   "metadata": {},
   "outputs": [
    {
     "data": {
      "text/html": [
       "<div>\n",
       "<style scoped>\n",
       "    .dataframe tbody tr th:only-of-type {\n",
       "        vertical-align: middle;\n",
       "    }\n",
       "\n",
       "    .dataframe tbody tr th {\n",
       "        vertical-align: top;\n",
       "    }\n",
       "\n",
       "    .dataframe thead th {\n",
       "        text-align: right;\n",
       "    }\n",
       "</style>\n",
       "<table border=\"1\" class=\"dataframe\">\n",
       "  <thead>\n",
       "    <tr style=\"text-align: right;\">\n",
       "      <th></th>\n",
       "      <th>CreditScore</th>\n",
       "      <th>Gender</th>\n",
       "      <th>Age</th>\n",
       "      <th>Tenure</th>\n",
       "      <th>Balance</th>\n",
       "      <th>NumOfProducts</th>\n",
       "      <th>HasCrCard</th>\n",
       "      <th>IsActiveMember</th>\n",
       "      <th>EstimatedSalary</th>\n",
       "    </tr>\n",
       "  </thead>\n",
       "  <tbody>\n",
       "    <tr>\n",
       "      <th>0</th>\n",
       "      <td>-0.326465</td>\n",
       "      <td>-1.095967</td>\n",
       "      <td>0.293449</td>\n",
       "      <td>-1.041728</td>\n",
       "      <td>-1.226009</td>\n",
       "      <td>-0.911597</td>\n",
       "      <td>0.646000</td>\n",
       "      <td>0.970443</td>\n",
       "      <td>0.022008</td>\n",
       "    </tr>\n",
       "    <tr>\n",
       "      <th>1</th>\n",
       "      <td>-0.440270</td>\n",
       "      <td>-1.095967</td>\n",
       "      <td>0.198086</td>\n",
       "      <td>-1.387530</td>\n",
       "      <td>0.117274</td>\n",
       "      <td>-0.911597</td>\n",
       "      <td>-1.547987</td>\n",
       "      <td>0.970443</td>\n",
       "      <td>0.216663</td>\n",
       "    </tr>\n",
       "    <tr>\n",
       "      <th>2</th>\n",
       "      <td>-1.536934</td>\n",
       "      <td>-1.095967</td>\n",
       "      <td>0.293449</td>\n",
       "      <td>1.033084</td>\n",
       "      <td>1.333054</td>\n",
       "      <td>2.527132</td>\n",
       "      <td>0.646000</td>\n",
       "      <td>-1.030458</td>\n",
       "      <td>0.240817</td>\n",
       "    </tr>\n",
       "    <tr>\n",
       "      <th>3</th>\n",
       "      <td>0.501205</td>\n",
       "      <td>-1.095967</td>\n",
       "      <td>0.007360</td>\n",
       "      <td>-1.387530</td>\n",
       "      <td>-1.226009</td>\n",
       "      <td>0.807768</td>\n",
       "      <td>-1.547987</td>\n",
       "      <td>-1.030458</td>\n",
       "      <td>-0.108802</td>\n",
       "    </tr>\n",
       "    <tr>\n",
       "      <th>4</th>\n",
       "      <td>2.063434</td>\n",
       "      <td>-1.095967</td>\n",
       "      <td>0.388811</td>\n",
       "      <td>-1.041728</td>\n",
       "      <td>0.785694</td>\n",
       "      <td>-0.911597</td>\n",
       "      <td>0.646000</td>\n",
       "      <td>0.970443</td>\n",
       "      <td>-0.365171</td>\n",
       "    </tr>\n",
       "    <tr>\n",
       "      <th>...</th>\n",
       "      <td>...</td>\n",
       "      <td>...</td>\n",
       "      <td>...</td>\n",
       "      <td>...</td>\n",
       "      <td>...</td>\n",
       "      <td>...</td>\n",
       "      <td>...</td>\n",
       "      <td>...</td>\n",
       "      <td>...</td>\n",
       "    </tr>\n",
       "    <tr>\n",
       "      <th>9997</th>\n",
       "      <td>0.604664</td>\n",
       "      <td>-1.095967</td>\n",
       "      <td>-0.278728</td>\n",
       "      <td>0.687282</td>\n",
       "      <td>-1.226009</td>\n",
       "      <td>-0.911597</td>\n",
       "      <td>-1.547987</td>\n",
       "      <td>0.970443</td>\n",
       "      <td>-1.008565</td>\n",
       "    </tr>\n",
       "    <tr>\n",
       "      <th>9998</th>\n",
       "      <td>1.256455</td>\n",
       "      <td>0.912436</td>\n",
       "      <td>0.293449</td>\n",
       "      <td>-0.695926</td>\n",
       "      <td>-0.022693</td>\n",
       "      <td>0.807768</td>\n",
       "      <td>0.646000</td>\n",
       "      <td>-1.030458</td>\n",
       "      <td>-0.125116</td>\n",
       "    </tr>\n",
       "    <tr>\n",
       "      <th>9999</th>\n",
       "      <td>1.256455</td>\n",
       "      <td>0.912436</td>\n",
       "      <td>0.293449</td>\n",
       "      <td>-0.695926</td>\n",
       "      <td>-0.022693</td>\n",
       "      <td>0.807768</td>\n",
       "      <td>0.646000</td>\n",
       "      <td>-1.030458</td>\n",
       "      <td>-0.125116</td>\n",
       "    </tr>\n",
       "    <tr>\n",
       "      <th>10000</th>\n",
       "      <td>1.463373</td>\n",
       "      <td>-1.095967</td>\n",
       "      <td>-1.041630</td>\n",
       "      <td>-0.350124</td>\n",
       "      <td>0.859935</td>\n",
       "      <td>-0.911597</td>\n",
       "      <td>0.646000</td>\n",
       "      <td>-1.030458</td>\n",
       "      <td>-1.076294</td>\n",
       "    </tr>\n",
       "    <tr>\n",
       "      <th>10001</th>\n",
       "      <td>1.463373</td>\n",
       "      <td>-1.095967</td>\n",
       "      <td>-1.041630</td>\n",
       "      <td>-0.350124</td>\n",
       "      <td>0.859935</td>\n",
       "      <td>-0.911597</td>\n",
       "      <td>0.646000</td>\n",
       "      <td>-1.030458</td>\n",
       "      <td>-1.076294</td>\n",
       "    </tr>\n",
       "  </tbody>\n",
       "</table>\n",
       "<p>10002 rows × 9 columns</p>\n",
       "</div>"
      ],
      "text/plain": [
       "       CreditScore    Gender       Age    Tenure   Balance  NumOfProducts  \\\n",
       "0        -0.326465 -1.095967  0.293449 -1.041728 -1.226009      -0.911597   \n",
       "1        -0.440270 -1.095967  0.198086 -1.387530  0.117274      -0.911597   \n",
       "2        -1.536934 -1.095967  0.293449  1.033084  1.333054       2.527132   \n",
       "3         0.501205 -1.095967  0.007360 -1.387530 -1.226009       0.807768   \n",
       "4         2.063434 -1.095967  0.388811 -1.041728  0.785694      -0.911597   \n",
       "...            ...       ...       ...       ...       ...            ...   \n",
       "9997      0.604664 -1.095967 -0.278728  0.687282 -1.226009      -0.911597   \n",
       "9998      1.256455  0.912436  0.293449 -0.695926 -0.022693       0.807768   \n",
       "9999      1.256455  0.912436  0.293449 -0.695926 -0.022693       0.807768   \n",
       "10000     1.463373 -1.095967 -1.041630 -0.350124  0.859935      -0.911597   \n",
       "10001     1.463373 -1.095967 -1.041630 -0.350124  0.859935      -0.911597   \n",
       "\n",
       "       HasCrCard  IsActiveMember  EstimatedSalary  \n",
       "0       0.646000        0.970443         0.022008  \n",
       "1      -1.547987        0.970443         0.216663  \n",
       "2       0.646000       -1.030458         0.240817  \n",
       "3      -1.547987       -1.030458        -0.108802  \n",
       "4       0.646000        0.970443        -0.365171  \n",
       "...          ...             ...              ...  \n",
       "9997   -1.547987        0.970443        -1.008565  \n",
       "9998    0.646000       -1.030458        -0.125116  \n",
       "9999    0.646000       -1.030458        -0.125116  \n",
       "10000   0.646000       -1.030458        -1.076294  \n",
       "10001   0.646000       -1.030458        -1.076294  \n",
       "\n",
       "[10002 rows x 9 columns]"
      ]
     },
     "execution_count": 48,
     "metadata": {},
     "output_type": "execute_result"
    }
   ],
   "source": [
    "x"
   ]
  },
  {
   "cell_type": "code",
   "execution_count": 44,
   "id": "220e198b",
   "metadata": {},
   "outputs": [
    {
     "name": "stderr",
     "output_type": "stream",
     "text": [
      "C:\\Users\\ABC\\anaconda3\\lib\\site-packages\\sklearn\\base.py:450: UserWarning: X does not have valid feature names, but GradientBoostingClassifier was fitted with feature names\n",
      "  warnings.warn(\n"
     ]
    },
    {
     "data": {
      "text/plain": [
       "array([[0.84456162, 0.15543838]])"
      ]
     },
     "execution_count": 44,
     "metadata": {},
     "output_type": "execute_result"
    }
   ],
   "source": [
    "loaded_bankchurn.predict_proba([[420, 1, 32, 7, 0, 0, 1.0, 1.0, 100000]])"
   ]
  },
  {
   "cell_type": "code",
   "execution_count": null,
   "id": "55132ae0",
   "metadata": {},
   "outputs": [],
   "source": []
  },
  {
   "cell_type": "code",
   "execution_count": null,
   "id": "78131d8d",
   "metadata": {
    "scrolled": true
   },
   "outputs": [],
   "source": []
  },
  {
   "cell_type": "code",
   "execution_count": null,
   "id": "6765b2b6",
   "metadata": {},
   "outputs": [],
   "source": []
  }
 ],
 "metadata": {
  "kernelspec": {
   "display_name": "Python 3 (ipykernel)",
   "language": "python",
   "name": "python3"
  },
  "language_info": {
   "codemirror_mode": {
    "name": "ipython",
    "version": 3
   },
   "file_extension": ".py",
   "mimetype": "text/x-python",
   "name": "python",
   "nbconvert_exporter": "python",
   "pygments_lexer": "ipython3",
   "version": "3.9.13"
  }
 },
 "nbformat": 4,
 "nbformat_minor": 5
}
