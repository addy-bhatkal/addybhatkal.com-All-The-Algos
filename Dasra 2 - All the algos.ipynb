{
 "cells": [
  {
   "cell_type": "code",
   "execution_count": 33,
   "id": "a540c00c",
   "metadata": {},
   "outputs": [],
   "source": [
    "import pandas as pd\n",
    "import numpy as np\n",
    "import os\n",
    "from sklearn.preprocessing import LabelEncoder\n",
    "from sklearn.preprocessing import MinMaxScaler, StandardScaler\n",
    "import matplotlib.pyplot as plt\n",
    "from sklearn.linear_model import LogisticRegression\n",
    "from sklearn.ensemble import RandomForestClassifier, GradientBoostingClassifier\n",
    "from sklearn.tree import DecisionTreeClassifier\n",
    "from sklearn.model_selection import train_test_split, cross_val_score\n",
    "from sklearn.metrics import accuracy_score\n",
    "from sklearn.neighbors import KNeighborsClassifier\n",
    "from sklearn.cluster import KMeans\n",
    "from sklearn.svm import SVC"
   ]
  },
  {
   "cell_type": "code",
   "execution_count": 34,
   "id": "3c745af3",
   "metadata": {},
   "outputs": [],
   "source": [
    "from sklearn.preprocessing import LabelEncoder\n",
    "from sklearn.preprocessing import MinMaxScaler, StandardScaler\n",
    "from sklearn.ensemble import GradientBoostingClassifier\n"
   ]
  },
  {
   "cell_type": "code",
   "execution_count": 35,
   "id": "2869bc78",
   "metadata": {},
   "outputs": [],
   "source": [
    "os.chdir('C:\\\\Users\\\\ABC\\\\3. Edureka\\\\20. Website deployment\\\\Dasra')"
   ]
  },
  {
   "cell_type": "code",
   "execution_count": 36,
   "id": "15188a2a",
   "metadata": {},
   "outputs": [
    {
     "data": {
      "text/plain": [
       "['.ipynb_checkpoints',\n",
       " 'Dasra - All the algos.ipynb',\n",
       " 'Dasra 2 - All the algos.ipynb',\n",
       " 'dropout.sav',\n",
       " 'Graudated or no dataset.csv',\n",
       " 'train - main.csv']"
      ]
     },
     "execution_count": 36,
     "metadata": {},
     "output_type": "execute_result"
    }
   ],
   "source": [
    "os.listdir()\n"
   ]
  },
  {
   "cell_type": "code",
   "execution_count": 37,
   "id": "3a6bd72f",
   "metadata": {},
   "outputs": [],
   "source": [
    "df = pd.read_csv('train - main.csv')"
   ]
  },
  {
   "cell_type": "code",
   "execution_count": 38,
   "id": "d813bf52",
   "metadata": {},
   "outputs": [],
   "source": [
    "df['Target'] = df['Target'].map({'Graduate':2,'Enrolled':1, 'Dropout':0})"
   ]
  },
  {
   "cell_type": "code",
   "execution_count": 7,
   "id": "3a9a357a",
   "metadata": {},
   "outputs": [],
   "source": [
    "\"\"\"x = df[['Marital status', 'Application mode', 'Previous qualification',\n",
    "       'Previous qualification (grade)', 'Nacionality', 'Father\\'s qualification', 'Admission grade',\n",
    "       'Displaced', 'Educational special needs','Tuition fees up to date', 'Gender', 'Scholarship holder', 'Age at enrollment', 'Curricular units 1st sem (grade)','Curricular units 2nd sem (grade)', 'Unemployment rate',\n",
    "       'Inflation rate', 'GDP']]\"\"\"\n",
    "\n",
    "\"Previous qualification, Father's qualification, Nacionality, Curricular units 1st sem (grade), \n",
    "Curricular units 2nd sem (grade), Tuition fees up to date\""
   ]
  },
  {
   "cell_type": "code",
   "execution_count": 39,
   "id": "a5a88611",
   "metadata": {},
   "outputs": [],
   "source": [
    "x = df[['Marital status', 'Admission grade',\n",
    "       'Displaced', 'Educational special needs', 'Gender', 'Scholarship holder', \n",
    "        'Age at enrollment', 'Unemployment rate', 'Inflation rate', 'GDP']]"
   ]
  },
  {
   "cell_type": "code",
   "execution_count": 40,
   "id": "1bf50bbd",
   "metadata": {},
   "outputs": [],
   "source": [
    "y = df['Target']"
   ]
  },
  {
   "cell_type": "code",
   "execution_count": 67,
   "id": "52ff563c",
   "metadata": {},
   "outputs": [],
   "source": [
    "#ss = StandardScaler() \n",
    "#x = pd.DataFrame(ss.fit_transform(x), columns=x.columns)"
   ]
  },
  {
   "cell_type": "code",
   "execution_count": 77,
   "id": "d283b7b1",
   "metadata": {},
   "outputs": [
    {
     "data": {
      "text/plain": [
       "'#Logistic Regresion\\nlg = LogisticRegression()\\nmodel_lr = lg.fit(x_train, y_train)\\ny_predict_lr = model_lr.predict(x_test)\\nacc_lr = accuracy_score(y_predict_lr, y_test)\\nif acc_lr>0.829:\\n    print(i, acc_lr)'"
      ]
     },
     "execution_count": 77,
     "metadata": {},
     "output_type": "execute_result"
    }
   ],
   "source": [
    "\"\"\"#Logistic Regresion\n",
    "lg = LogisticRegression()\n",
    "model_lr = lg.fit(x_train, y_train)\n",
    "y_predict_lr = model_lr.predict(x_test)\n",
    "acc_lr = accuracy_score(y_predict_lr, y_test)\n",
    "if acc_lr>0.829:\n",
    "    print(i, acc_lr)\"\"\""
   ]
  },
  {
   "cell_type": "code",
   "execution_count": 26,
   "id": "3d89ab02",
   "metadata": {},
   "outputs": [
    {
     "data": {
      "text/html": [
       "<div>\n",
       "<style scoped>\n",
       "    .dataframe tbody tr th:only-of-type {\n",
       "        vertical-align: middle;\n",
       "    }\n",
       "\n",
       "    .dataframe tbody tr th {\n",
       "        vertical-align: top;\n",
       "    }\n",
       "\n",
       "    .dataframe thead th {\n",
       "        text-align: right;\n",
       "    }\n",
       "</style>\n",
       "<table border=\"1\" class=\"dataframe\">\n",
       "  <thead>\n",
       "    <tr style=\"text-align: right;\">\n",
       "      <th></th>\n",
       "      <th>Marital status</th>\n",
       "      <th>Admission grade</th>\n",
       "      <th>Displaced</th>\n",
       "      <th>Educational special needs</th>\n",
       "      <th>Gender</th>\n",
       "      <th>Scholarship holder</th>\n",
       "      <th>Age at enrollment</th>\n",
       "      <th>Unemployment rate</th>\n",
       "      <th>Inflation rate</th>\n",
       "      <th>GDP</th>\n",
       "    </tr>\n",
       "  </thead>\n",
       "  <tbody>\n",
       "    <tr>\n",
       "      <th>0</th>\n",
       "      <td>1</td>\n",
       "      <td>122.6</td>\n",
       "      <td>0</td>\n",
       "      <td>0</td>\n",
       "      <td>0</td>\n",
       "      <td>1</td>\n",
       "      <td>18</td>\n",
       "      <td>11.1</td>\n",
       "      <td>0.6</td>\n",
       "      <td>2.02</td>\n",
       "    </tr>\n",
       "    <tr>\n",
       "      <th>1</th>\n",
       "      <td>1</td>\n",
       "      <td>119.8</td>\n",
       "      <td>1</td>\n",
       "      <td>0</td>\n",
       "      <td>0</td>\n",
       "      <td>0</td>\n",
       "      <td>18</td>\n",
       "      <td>11.1</td>\n",
       "      <td>0.6</td>\n",
       "      <td>2.02</td>\n",
       "    </tr>\n",
       "    <tr>\n",
       "      <th>2</th>\n",
       "      <td>1</td>\n",
       "      <td>144.7</td>\n",
       "      <td>0</td>\n",
       "      <td>0</td>\n",
       "      <td>1</td>\n",
       "      <td>0</td>\n",
       "      <td>18</td>\n",
       "      <td>16.2</td>\n",
       "      <td>0.3</td>\n",
       "      <td>-0.92</td>\n",
       "    </tr>\n",
       "    <tr>\n",
       "      <th>3</th>\n",
       "      <td>1</td>\n",
       "      <td>126.1</td>\n",
       "      <td>1</td>\n",
       "      <td>0</td>\n",
       "      <td>0</td>\n",
       "      <td>1</td>\n",
       "      <td>18</td>\n",
       "      <td>11.1</td>\n",
       "      <td>0.6</td>\n",
       "      <td>2.02</td>\n",
       "    </tr>\n",
       "    <tr>\n",
       "      <th>4</th>\n",
       "      <td>1</td>\n",
       "      <td>120.1</td>\n",
       "      <td>1</td>\n",
       "      <td>0</td>\n",
       "      <td>0</td>\n",
       "      <td>0</td>\n",
       "      <td>18</td>\n",
       "      <td>7.6</td>\n",
       "      <td>2.6</td>\n",
       "      <td>0.32</td>\n",
       "    </tr>\n",
       "    <tr>\n",
       "      <th>...</th>\n",
       "      <td>...</td>\n",
       "      <td>...</td>\n",
       "      <td>...</td>\n",
       "      <td>...</td>\n",
       "      <td>...</td>\n",
       "      <td>...</td>\n",
       "      <td>...</td>\n",
       "      <td>...</td>\n",
       "      <td>...</td>\n",
       "      <td>...</td>\n",
       "    </tr>\n",
       "    <tr>\n",
       "      <th>76513</th>\n",
       "      <td>1</td>\n",
       "      <td>116.5</td>\n",
       "      <td>1</td>\n",
       "      <td>0</td>\n",
       "      <td>0</td>\n",
       "      <td>1</td>\n",
       "      <td>18</td>\n",
       "      <td>13.9</td>\n",
       "      <td>-0.3</td>\n",
       "      <td>0.79</td>\n",
       "    </tr>\n",
       "    <tr>\n",
       "      <th>76514</th>\n",
       "      <td>1</td>\n",
       "      <td>131.6</td>\n",
       "      <td>1</td>\n",
       "      <td>0</td>\n",
       "      <td>0</td>\n",
       "      <td>0</td>\n",
       "      <td>19</td>\n",
       "      <td>9.4</td>\n",
       "      <td>-0.8</td>\n",
       "      <td>-3.12</td>\n",
       "    </tr>\n",
       "    <tr>\n",
       "      <th>76515</th>\n",
       "      <td>5</td>\n",
       "      <td>123.3</td>\n",
       "      <td>1</td>\n",
       "      <td>0</td>\n",
       "      <td>0</td>\n",
       "      <td>0</td>\n",
       "      <td>19</td>\n",
       "      <td>9.4</td>\n",
       "      <td>-0.8</td>\n",
       "      <td>-3.12</td>\n",
       "    </tr>\n",
       "    <tr>\n",
       "      <th>76516</th>\n",
       "      <td>1</td>\n",
       "      <td>124.8</td>\n",
       "      <td>1</td>\n",
       "      <td>0</td>\n",
       "      <td>0</td>\n",
       "      <td>0</td>\n",
       "      <td>18</td>\n",
       "      <td>7.6</td>\n",
       "      <td>2.6</td>\n",
       "      <td>0.32</td>\n",
       "    </tr>\n",
       "    <tr>\n",
       "      <th>76517</th>\n",
       "      <td>1</td>\n",
       "      <td>131.0</td>\n",
       "      <td>1</td>\n",
       "      <td>0</td>\n",
       "      <td>0</td>\n",
       "      <td>0</td>\n",
       "      <td>19</td>\n",
       "      <td>15.5</td>\n",
       "      <td>2.8</td>\n",
       "      <td>-4.06</td>\n",
       "    </tr>\n",
       "  </tbody>\n",
       "</table>\n",
       "<p>76518 rows × 10 columns</p>\n",
       "</div>"
      ],
      "text/plain": [
       "       Marital status  Admission grade  Displaced  Educational special needs  \\\n",
       "0                   1            122.6          0                          0   \n",
       "1                   1            119.8          1                          0   \n",
       "2                   1            144.7          0                          0   \n",
       "3                   1            126.1          1                          0   \n",
       "4                   1            120.1          1                          0   \n",
       "...               ...              ...        ...                        ...   \n",
       "76513               1            116.5          1                          0   \n",
       "76514               1            131.6          1                          0   \n",
       "76515               5            123.3          1                          0   \n",
       "76516               1            124.8          1                          0   \n",
       "76517               1            131.0          1                          0   \n",
       "\n",
       "       Gender  Scholarship holder  Age at enrollment  Unemployment rate  \\\n",
       "0           0                   1                 18               11.1   \n",
       "1           0                   0                 18               11.1   \n",
       "2           1                   0                 18               16.2   \n",
       "3           0                   1                 18               11.1   \n",
       "4           0                   0                 18                7.6   \n",
       "...       ...                 ...                ...                ...   \n",
       "76513       0                   1                 18               13.9   \n",
       "76514       0                   0                 19                9.4   \n",
       "76515       0                   0                 19                9.4   \n",
       "76516       0                   0                 18                7.6   \n",
       "76517       0                   0                 19               15.5   \n",
       "\n",
       "       Inflation rate   GDP  \n",
       "0                 0.6  2.02  \n",
       "1                 0.6  2.02  \n",
       "2                 0.3 -0.92  \n",
       "3                 0.6  2.02  \n",
       "4                 2.6  0.32  \n",
       "...               ...   ...  \n",
       "76513            -0.3  0.79  \n",
       "76514            -0.8 -3.12  \n",
       "76515            -0.8 -3.12  \n",
       "76516             2.6  0.32  \n",
       "76517             2.8 -4.06  \n",
       "\n",
       "[76518 rows x 10 columns]"
      ]
     },
     "execution_count": 26,
     "metadata": {},
     "output_type": "execute_result"
    }
   ],
   "source": [
    "[[1,120.1,1,0,0,0,18,7.6,2.6,0.32]]"
   ]
  },
  {
   "cell_type": "code",
   "execution_count": 87,
   "id": "d2e173b2",
   "metadata": {},
   "outputs": [
    {
     "data": {
      "text/plain": [
       "76518    NaN\n",
       "76519    NaN\n",
       "76520    NaN\n",
       "76521    NaN\n",
       "76522    NaN\n",
       "          ..\n",
       "127525   NaN\n",
       "127526   NaN\n",
       "127527   NaN\n",
       "127528   NaN\n",
       "127529   NaN\n",
       "Name: Target, Length: 51012, dtype: float64"
      ]
     },
     "execution_count": 87,
     "metadata": {},
     "output_type": "execute_result"
    }
   ],
   "source": [
    "y_test"
   ]
  },
  {
   "cell_type": "code",
   "execution_count": 41,
   "id": "87721e1d",
   "metadata": {},
   "outputs": [
    {
     "name": "stdout",
     "output_type": "stream",
     "text": [
      "0.5480266596968113\n"
     ]
    }
   ],
   "source": [
    "#Decision Tree\n",
    "x_train_dt, x_test_dt, y_train_dt,y_test_dt = train_test_split(x,y,test_size=0.2, random_state=42)\n",
    "dt = DecisionTreeClassifier()\n",
    "model_dt = dt.fit(x_train_dt, y_train_dt)\n",
    "y_predict_dt = model_dt.predict(x_test_dt)\n",
    "acc_dt = accuracy_score(y_test_dt, y_predict_dt)\n",
    "print(acc_dt)"
   ]
  },
  {
   "cell_type": "code",
   "execution_count": 42,
   "id": "3a3e9223",
   "metadata": {},
   "outputs": [
    {
     "name": "stdout",
     "output_type": "stream",
     "text": [
      "0.5737062205959227 [0.58239676 0.57337951 0.57880293 0.57805659 0.58178135]\n"
     ]
    }
   ],
   "source": [
    "#RandomForest\n",
    "x_train_rf, x_test_rf, y_train_rf,y_test_rf = train_test_split(x,y,test_size=0.2, random_state=42)\n",
    "rf = RandomForestClassifier()\n",
    "cv_scores = cross_val_score(rf, x, y, cv=5)\n",
    "model_rf = rf.fit(x_train_rf, y_train_rf)\n",
    "y_predict_rf = model_rf.predict(x_test_rf)\n",
    "acc_rf = accuracy_score(y_test_rf, y_predict_rf)\n",
    "print(acc_rf, cv_scores)"
   ]
  },
  {
   "cell_type": "code",
   "execution_count": null,
   "id": "bb8cef2f",
   "metadata": {},
   "outputs": [],
   "source": [
    "#KNN\n",
    "import warnings\n",
    "# Suppress FutureWarnings\n",
    "warnings.simplefilter(action='ignore', category=FutureWarning)\n",
    "try: \n",
    "    for l in range(278, 285):\n",
    "        x_train_knn, x_test_knn, y_train_knn, y_test_knn = train_test_split(x,y,test_size=0.2, \n",
    "                                                                            random_state=l)\n",
    "        knn = KNeighborsClassifier()\n",
    "        model_knn = knn.fit(x_train_knn, y_train_knn)\n",
    "        y_predict_knn = model_knn.predict(x_test_knn)\n",
    "        acc_knn = accuracy_score(y_predict_knn, y_test_knn)\n",
    "        if acc_knn > 0.85:\n",
    "            print(l, acc_knn)\n",
    "except ValueError:\n",
    "    print(\"Invalid\")"
   ]
  },
  {
   "cell_type": "code",
   "execution_count": null,
   "id": "8dd373a5",
   "metadata": {},
   "outputs": [],
   "source": [
    "#Support Vector Machines\n",
    "for m in range(54,56):\n",
    "    x_train_svc, x_test_svc, y_train_svc, y_test_svc = train_test_split(x,y,test_size = 0.2,\n",
    "                                                                        random_state = m)\n",
    "    svc = SVC()\n",
    "    model_svc = svc.fit(x_train_svc, y_train_svc)\n",
    "    y_predict_svc = model_svc.predict(x_test_svc)\n",
    "    acc_svc = accuracy_score(y_test_svc, y_predict_svc)\n",
    "    if acc_svc > 0.86:\n",
    "        print(m, acc_svc)"
   ]
  },
  {
   "cell_type": "code",
   "execution_count": null,
   "id": "e6779bd0",
   "metadata": {},
   "outputs": [],
   "source": [
    "#GradientBoostingClassifier\n",
    "for n in range(54, 56):\n",
    "    x_train_gb, x_test_gb, y_train_gb, y_test_gb = train_test_split(x,y,test_size = 0.2, \n",
    "                                                                    random_state = n)\n",
    "    gb = GradientBoostingClassifier()\n",
    "    model_gb = gb.fit(x_train_gb, y_train_gb)\n",
    "    y_predict_gb = gb.predict(x_test_gb)\n",
    "    acc_gb = accuracy_score(y_predict_gb, y_test_gb)\n",
    "    if acc_gb > 0.87:\n",
    "        print(n, acc_gb)"
   ]
  },
  {
   "cell_type": "code",
   "execution_count": 27,
   "id": "4fac5517",
   "metadata": {},
   "outputs": [
    {
     "name": "stdout",
     "output_type": "stream",
     "text": [
      "0.6391139571353894\n",
      "[0.63846053 0.62774438 0.63434396 0.63249036 0.63817552]\n"
     ]
    }
   ],
   "source": [
    "#THIS ONES IT.\n",
    "#GradientBoostingClassifier_Main\n",
    "x_train_gb, x_test_gb, y_train_gb, y_test_gb = train_test_split(x,y,test_size = 0.2, \n",
    "                                                                random_state = 55)\n",
    "gb = GradientBoostingClassifier()\n",
    "model_gb = gb.fit(x_train_gb, y_train_gb)\n",
    "y_predict_gb = gb.predict(x_test_gb)\n",
    "acc_gb = accuracy_score(y_predict_gb, y_test_gb)\n",
    "print(acc_gb)\n",
    "cv = cross_val_score(gb, x,y,scoring='accuracy', cv=5 )\n",
    "print(cv)"
   ]
  },
  {
   "cell_type": "code",
   "execution_count": null,
   "id": "386c90fb",
   "metadata": {},
   "outputs": [],
   "source": []
  },
  {
   "cell_type": "code",
   "execution_count": 28,
   "id": "37e7215c",
   "metadata": {},
   "outputs": [
    {
     "name": "stderr",
     "output_type": "stream",
     "text": [
      "C:\\Users\\ABC\\anaconda3\\lib\\site-packages\\sklearn\\base.py:450: UserWarning: X does not have valid feature names, but GradientBoostingClassifier was fitted with feature names\n",
      "  warnings.warn(\n"
     ]
    },
    {
     "data": {
      "text/plain": [
       "array([[0.2752067 , 0.29478638, 0.43000693]])"
      ]
     },
     "execution_count": 28,
     "metadata": {},
     "output_type": "execute_result"
    }
   ],
   "source": [
    "gb.predict_proba([[1,120.1,1,0,0,0,18,7.6,2.6,0.32]])"
   ]
  },
  {
   "cell_type": "code",
   "execution_count": 29,
   "id": "b9a8ca7c",
   "metadata": {},
   "outputs": [],
   "source": [
    "import pickle\n",
    "with open('dropout.sav', 'wb') as f1:\n",
    "    pickle.dump(model_gb, f1)"
   ]
  },
  {
   "cell_type": "code",
   "execution_count": 30,
   "id": "1ce00640",
   "metadata": {},
   "outputs": [],
   "source": [
    "with open('dropout.sav', 'rb') as f2:\n",
    "    loaded_bankchurn = pickle.load(f2)"
   ]
  },
  {
   "cell_type": "code",
   "execution_count": 31,
   "id": "220e198b",
   "metadata": {},
   "outputs": [
    {
     "name": "stderr",
     "output_type": "stream",
     "text": [
      "C:\\Users\\ABC\\anaconda3\\lib\\site-packages\\sklearn\\base.py:450: UserWarning: X does not have valid feature names, but GradientBoostingClassifier was fitted with feature names\n",
      "  warnings.warn(\n"
     ]
    },
    {
     "data": {
      "text/plain": [
       "array([[0.2752067 , 0.29478638, 0.43000693]])"
      ]
     },
     "execution_count": 31,
     "metadata": {},
     "output_type": "execute_result"
    }
   ],
   "source": [
    "loaded_bankchurn.predict_proba([[1,120.1,1,0,0,0,18,7.6,2.6,0.32]])"
   ]
  }
 ],
 "metadata": {
  "kernelspec": {
   "display_name": "Python 3 (ipykernel)",
   "language": "python",
   "name": "python3"
  },
  "language_info": {
   "codemirror_mode": {
    "name": "ipython",
    "version": 3
   },
   "file_extension": ".py",
   "mimetype": "text/x-python",
   "name": "python",
   "nbconvert_exporter": "python",
   "pygments_lexer": "ipython3",
   "version": "3.9.13"
  }
 },
 "nbformat": 4,
 "nbformat_minor": 5
}
